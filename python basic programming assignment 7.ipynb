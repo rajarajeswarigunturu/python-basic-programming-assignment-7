{
 "cells": [
  {
   "cell_type": "code",
   "execution_count": 7,
   "id": "2ad41f76",
   "metadata": {},
   "outputs": [],
   "source": [
    "#1. Write a Python Program to find sum of array?"
   ]
  },
  {
   "cell_type": "code",
   "execution_count": 14,
   "id": "a5afb822",
   "metadata": {},
   "outputs": [
    {
     "name": "stdout",
     "output_type": "stream",
     "text": [
      "Sum of the array is  86\n"
     ]
    }
   ],
   "source": [
    "import array as ar\n",
    "\n",
    "def SumofArray(arr):\n",
    "    sum=0\n",
    "    n = len(arr)\n",
    "    for i in range(n):\n",
    "        sum = sum + arr[i]\n",
    "    return sum\n",
    "  \n",
    "a = ar.array('i',[20, 21, 22, 23])\n",
    "  \n",
    "print ('Sum of the array is ', SumofArray(a) ) "
   ]
  },
  {
   "cell_type": "code",
   "execution_count": 15,
   "id": "9e73219e",
   "metadata": {},
   "outputs": [],
   "source": [
    "#2. Write a Python Program to find largest element in an array?"
   ]
  },
  {
   "cell_type": "code",
   "execution_count": 18,
   "id": "2b1671a1",
   "metadata": {},
   "outputs": [
    {
     "name": "stdout",
     "output_type": "stream",
     "text": [
      "Largets element in the given array is :  36\n"
     ]
    }
   ],
   "source": [
    "def largestone(arr,n):\n",
    "    max = arr[0]\n",
    "    for i in range(1,n):\n",
    "        if arr[i] > max:\n",
    "            max = arr[i]\n",
    "    return max\n",
    "arr = [22,25,28,29,36,22]\n",
    "n=len(arr)\n",
    "sol = largestone(arr,n)\n",
    "print(\"Largets element in the given array is : \", sol)"
   ]
  },
  {
   "cell_type": "code",
   "execution_count": 3,
   "id": "22b28fab",
   "metadata": {},
   "outputs": [],
   "source": [
    "#3. Write a Python Program for array rotation?"
   ]
  },
  {
   "cell_type": "code",
   "execution_count": 20,
   "id": "91dc56a5",
   "metadata": {},
   "outputs": [
    {
     "name": "stdout",
     "output_type": "stream",
     "text": [
      "Array after left rotation is:  [3, 4, 5, 6, 7, 1, 2]\n"
     ]
    }
   ],
   "source": [
    "def rotateArray(a,x):\n",
    "    temp = []\n",
    "    n=len(a)\n",
    "    for i in range(x,n):\n",
    "        temp.append(a[i])\n",
    "    i = 0\n",
    "    for i in range (0,x):\n",
    "        temp.append(a[i])\n",
    "    a=temp.copy()\n",
    "    return a\n",
    " \n",
    "arr = [1, 2, 3, 4, 5, 6, 7]\n",
    "print(\"Array after left rotation is: \", end=' ')\n",
    "print(rotateArray(arr, 2))"
   ]
  },
  {
   "cell_type": "code",
   "execution_count": 4,
   "id": "1bca786d",
   "metadata": {},
   "outputs": [],
   "source": [
    "#4. Write a Python Program to Split the array and add the first \n",
    "# part to the end?"
   ]
  },
  {
   "cell_type": "code",
   "execution_count": 22,
   "id": "9030c717",
   "metadata": {},
   "outputs": [
    {
     "name": "stdout",
     "output_type": "stream",
     "text": [
      "15 16 50 36 15 40 "
     ]
    }
   ],
   "source": [
    "def SplitArray(arr, n, k):\n",
    "    for i in range(0, k):\n",
    "        x = arr[0]\n",
    "        for j in range(0, n-1):\n",
    "            arr[j] = arr[j + 1]\n",
    "        arr[n-1] = x\n",
    "arr = [15, 40, 15, 16, 50, 36]\n",
    "n = len(arr)\n",
    "position = 2\n",
    "SplitArray(arr, n, position)\n",
    "for i in range(0, n):\n",
    "    print(arr[i], end = ' ')"
   ]
  },
  {
   "cell_type": "code",
   "execution_count": null,
   "id": "90cea64b",
   "metadata": {},
   "outputs": [],
   "source": [
    "#5. Write a Python Program to check if given array is Monotonic?"
   ]
  },
  {
   "cell_type": "code",
   "execution_count": 23,
   "id": "5f2437b4",
   "metadata": {},
   "outputs": [
    {
     "name": "stdout",
     "output_type": "stream",
     "text": [
      "True\n"
     ]
    }
   ],
   "source": [
    "def ismonotonic(A):\n",
    "    a, b = [], []\n",
    "    a.extend(A)\n",
    "    b.extend(A)\n",
    "    a.sort()\n",
    "    b.sort(reverse=True)\n",
    "    if(a == A or b == A):\n",
    "        return True\n",
    "    return False\n",
    " \n",
    "\n",
    "A = [6, 5, 4, 4]\n",
    " \n",
    "print(ismonotonic(A))"
   ]
  },
  {
   "cell_type": "code",
   "execution_count": null,
   "id": "109cc1a7",
   "metadata": {},
   "outputs": [],
   "source": []
  }
 ],
 "metadata": {
  "kernelspec": {
   "display_name": "Python 3 (ipykernel)",
   "language": "python",
   "name": "python3"
  },
  "language_info": {
   "codemirror_mode": {
    "name": "ipython",
    "version": 3
   },
   "file_extension": ".py",
   "mimetype": "text/x-python",
   "name": "python",
   "nbconvert_exporter": "python",
   "pygments_lexer": "ipython3",
   "version": "3.9.7"
  }
 },
 "nbformat": 4,
 "nbformat_minor": 5
}
